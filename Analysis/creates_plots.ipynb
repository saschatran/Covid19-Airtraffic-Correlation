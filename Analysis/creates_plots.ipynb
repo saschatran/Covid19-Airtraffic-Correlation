{
 "cells": [
  {
   "cell_type": "markdown",
   "metadata": {},
   "source": [
    "# Overview\n",
    "Several plots are created.\n",
    "\n",
    "## Plots from the same dataset:\n",
    "\n",
    "- Number of new Corona cases overtime. (CA, NY)\n",
    "- Number of cancelled flights overtime. (CA, NY)\n",
    "- Number of vaccinated people overtime. (CA, NY)\n",
    "- Number of performed flights, delayed flights with and without weather delay over time. (Total)\n",
    "- Number of employees overtime. (Total)\n",
    "\n",
    "## Correlations\n",
    "- Scatter plot of Cancelled Flight vs. Performed Flight"
   ]
  },
  {
   "cell_type": "code",
   "execution_count": 10,
   "metadata": {},
   "outputs": [],
   "source": [
    "import psycopg2\n",
    "import pandas as pd\n",
    "import numpy as np"
   ]
  },
  {
   "cell_type": "code",
   "execution_count": 11,
   "metadata": {},
   "outputs": [],
   "source": [
    "from bokeh.plotting import figure, show, save\n",
    "from bokeh.layouts import row, column, gridplot\n",
    "from bokeh.models import DatetimeTickFormatter, MonthsTicker\n",
    "from bokeh.models import Button, CustomJS, Legend\n",
    "from bokeh.embed import file_html\n",
    "from bokeh.io import show, output_file, export_png\n",
    "from bokeh.models import Div\n",
    "from bokeh.resources import CDN"
   ]
  },
  {
   "cell_type": "code",
   "execution_count": 12,
   "metadata": {},
   "outputs": [],
   "source": [
    "# create Connection with PostgreSQL Database\n",
    "conn = psycopg2.connect(user='Yannu', password='DB123', host='localhost', database='DB_UniBasel')\n",
    "cursor = conn.cursor()"
   ]
  },
  {
   "cell_type": "code",
   "execution_count": 13,
   "metadata": {},
   "outputs": [],
   "source": [
    "def coronaCases(state):\n",
    "    print(\"num new cases\")\n",
    "    #log\n",
    "    print(state)\n",
    "    \n",
    "    #get data\n",
    "    query = \"\"\"SELECT DATE_TRUNC('week', d.date) \"Week\", cast(SUM(d.new_case) as decimal)/ s.citizens \"Number of Corona Cases\"\n",
    "                FROM CoronaData d, State s\n",
    "                WHERE s.state = d.state \n",
    "                        AND s.state = '\"\"\" + state + \"\"\"'\n",
    "                GROUP BY \"Week\", s.state\n",
    "                ORDER BY \"Week\" ASC \"\"\"\n",
    "    cursor.execute(query)\n",
    "    \n",
    "    #save results\n",
    "    df = pd.DataFrame(cursor.fetchall())\n",
    "    df.columns = ['Date', 'New Corona Cases']\n",
    "    \n",
    "    return df"
   ]
  },
  {
   "cell_type": "code",
   "execution_count": 14,
   "metadata": {},
   "outputs": [],
   "source": [
    "def coronaCasesMonthly(state):\n",
    "    print(\"num new cases\")\n",
    "    #log\n",
    "    print(state)\n",
    "    \n",
    "    #get data\n",
    "    query = \"\"\"SELECT TO_CHAR(DATE_TRUNC('month', d.date), 'YYYY-MM') \"Month\", cast(SUM(d.new_case) as float)/ s.citizens \"Number of Corona Cases\"\n",
    "                FROM CoronaData d, State s\n",
    "                WHERE s.state = d.state \n",
    "                        AND s.state = '\"\"\" + state + \"\"\"'\n",
    "                GROUP BY \"Month\", s.state\n",
    "                ORDER BY \"Month\" ASC \"\"\"\n",
    "    cursor.execute(query)\n",
    "    \n",
    "    #save results\n",
    "    df = pd.DataFrame(cursor.fetchall())\n",
    "    df.columns = ['Date', 'New Corona Cases']\n",
    "    \n",
    "    return df"
   ]
  },
  {
   "cell_type": "code",
   "execution_count": 15,
   "metadata": {},
   "outputs": [],
   "source": [
    "def cancelledFlights(state):\n",
    "        print(\"cancelledFlights\")\n",
    "        #log\n",
    "        print(state)\n",
    "        \n",
    "        #get data\n",
    "        query = \"\"\"SELECT DATE_TRUNC('month', f.flightdate) \"Month\", COUNT(*) \"Number of cancelled Flights\"\n",
    "                FROM Flight f, State s, Airport a, City c\n",
    "                WHERE (f.OriginAirportID = a.AirportID\n",
    "                        AND a.CityID = c.CityID \n",
    "                        AND c.State = s.state\n",
    "                        AND s.state = '\"\"\" + state + \"\"\"'\n",
    "                        AND f.cancelled = 1)\n",
    "                GROUP BY \"Month\"\n",
    "                ORDER BY \"Month\" Asc \"\"\"\n",
    "        cursor.execute(query)\n",
    "        \n",
    "        #save results\n",
    "        df = pd.DataFrame(cursor.fetchall())\n",
    "        df.columns = ['Date', 'Cancelled Flights']\n",
    "        \n",
    "        return df"
   ]
  },
  {
   "cell_type": "code",
   "execution_count": 16,
   "metadata": {},
   "outputs": [],
   "source": [
    "def cancelledFlightsMonthly(state):\n",
    "        print(\"cancelledFlights\")\n",
    "        #log\n",
    "        print(state)\n",
    "        \n",
    "        #get data\n",
    "        query = \"\"\"SELECT TO_CHAR(DATE_TRUNC('month', f.flightdate), 'YYYY-MM') \"Month\", COUNT(*) \"Number of cancelled Flights\"\n",
    "                FROM Flight f, State s, Airport a, City c\n",
    "                WHERE (f.OriginAirportID = a.AirportID\n",
    "                        AND a.CityID = c.CityID \n",
    "                        AND c.State = s.state\n",
    "                        AND s.state = '\"\"\" + state + \"\"\"'\n",
    "                        AND f.cancelled = 1)\n",
    "                GROUP BY \"Month\"\n",
    "                ORDER BY \"Month\" Asc \"\"\"\n",
    "        cursor.execute(query)\n",
    "        \n",
    "        #save results\n",
    "        df = pd.DataFrame(cursor.fetchall())\n",
    "        df.columns = ['Date', 'Cancelled Flights']\n",
    "        \n",
    "        return df"
   ]
  },
  {
   "cell_type": "code",
   "execution_count": 17,
   "metadata": {},
   "outputs": [],
   "source": [
    "def vaccination(state):\n",
    "    print(\"Vaccination\")\n",
    "    #log\n",
    "    if state == 'CA':\n",
    "            print(\"california\")\n",
    "    if state == 'NY':\n",
    "            print(\"new york\")\n",
    "    \n",
    "    #get data\n",
    "    query = \"\"\"SELECT DATE_TRUNC('day', cv.date), SUM(cv.series_complete_yes)/SUM(cv.census) \"Number of Covid Vaxxed\",\n",
    "                                SUM(cv.booster_doses)/SUM(cv.census) \"Number of Booster\",\n",
    "                                Sum(cv.second_booster)/SUM(cv.census) \"Number of Second Booster\"\n",
    "                FROM CoronaVax cv, State c\n",
    "                WHERE (cv.Location = c.State AND cv.Location = '\"\"\"+ state + \"\"\"')\n",
    "                GROUP BY cv.date, c.State\n",
    "                ORDER BY cv.date ASC \"\"\"\n",
    "    cursor.execute(query)\n",
    "    \n",
    "    #save results\n",
    "    df = pd.DataFrame(cursor.fetchall())\n",
    "    df.columns = ['Date', 'Number of Covid Vaxxed', 'Number of Booster', 'Number of Second Booster']\n",
    "    \n",
    "    return df\n",
    "    "
   ]
  },
  {
   "cell_type": "code",
   "execution_count": 18,
   "metadata": {},
   "outputs": [],
   "source": [
    "def delays(weather='with Weather Delay'):\n",
    "    print(\"Delayed Flights\")\n",
    "    \n",
    "    withouthWeather = \"AND df.weatherdelay = 0\" if weather == 'without Weather Delay' else \"\"\n",
    "    \n",
    "    #get data\n",
    "    query = \"\"\" SELECT DATE_TRUNC('month', f.flightdate) \"Month\", COUNT(*) \"Number of Delayed Flights\"\n",
    "                FROM delayed_Flight df, Flight f\n",
    "                WHERE (df.flight_id = f.flight_id\n",
    "                        \"\"\" + withouthWeather + \"\"\")\n",
    "                GROUP BY \"Month\"\n",
    "                ORDER BY \"Month\" ASC\"\"\"\n",
    "                \n",
    "    cursor.execute(query)\n",
    "    \n",
    "    #save results\n",
    "    df = pd.DataFrame(cursor.fetchall())\n",
    "    df.columns = ['Date', 'Number of Delayed Flights']\n",
    "    \n",
    "    return df\n",
    "    "
   ]
  },
  {
   "cell_type": "code",
   "execution_count": 19,
   "metadata": {},
   "outputs": [],
   "source": [
    "def preformedFlights():\n",
    "    print(\"Performed Flights\")\n",
    "    \n",
    "    #get data\n",
    "    query = \"\"\" SELECT DATE_TRUNC('month', f.flightdate) \"Month\", COUNT(*) \"Number of performed Flights\"\n",
    "                FROM Flight f\n",
    "                WHERE f.cancelled = 0\n",
    "                GROUP BY \"Month\"\n",
    "                ORDER BY \"Month\" ASC\"\"\"\n",
    "                \n",
    "    cursor.execute(query)\n",
    "    \n",
    "    #save results\n",
    "    df = pd.DataFrame(cursor.fetchall())\n",
    "    df.columns = ['Date', 'Number of Performed Flights']\n",
    "    \n",
    "    return df\n",
    "    "
   ]
  },
  {
   "cell_type": "code",
   "execution_count": 20,
   "metadata": {},
   "outputs": [],
   "source": [
    "def employee():\n",
    "    print(\"Performed Flights\")\n",
    "    \n",
    "    #get data\n",
    "    query = \"\"\" SELECT DATE_TRUNC('month', date) \"Month\", fulltime, parttime, grand_total\n",
    "                FROM Employment\n",
    "                WHERE date >= '2017-07-01' AND date <= '2022-07-01'\n",
    "                ORDER BY date ASC\"\"\"\n",
    "                \n",
    "    cursor.execute(query)\n",
    "    \n",
    "    #save results\n",
    "    df = pd.DataFrame(cursor.fetchall())\n",
    "    df.columns = ['Date', 'Fulltime', 'Parttime', 'Grand Total']\n",
    "    \n",
    "    return df\n"
   ]
  },
  {
   "cell_type": "code",
   "execution_count": 21,
   "metadata": {},
   "outputs": [],
   "source": [
    "def createFigure(x, y, color=\"black\", legend_Label=\"\", title=\"\", x_axis_label=\"\", y_axis_label=\"\", x_axis_type=\"\", forVax=False, scatter=False):\n",
    "    # check if color, x and y are lists\n",
    "    if not isinstance(x, list):\n",
    "        x = [x]\n",
    "    if not isinstance(y, list):\n",
    "        y = [y]\n",
    "    if not isinstance(color, list):\n",
    "        color = [color]\n",
    "    if not isinstance(legend_Label, list):\n",
    "        legend_Label = [legend_Label]\n",
    "    \n",
    "    if x_axis_type == \"\":\n",
    "        fig = figure(title=title,\n",
    "                    x_axis_label=x_axis_label,\n",
    "                    y_axis_label=y_axis_label,\n",
    "                    toolbar_location='left',\n",
    "                    plot_width=900,\n",
    "                    plot_height=600,\n",
    "                    )\n",
    "    else:\n",
    "        fig = figure(title=title,\n",
    "                    x_axis_label=x_axis_label,\n",
    "                    y_axis_label=y_axis_label,\n",
    "                    x_axis_type=x_axis_type,\n",
    "                    toolbar_location='left',\n",
    "                    plot_width=900,\n",
    "                    plot_height=600,\n",
    "                    )\n",
    "    \n",
    "    line = []\n",
    "    \n",
    "    # add data to figure\n",
    "    for i in range(len(x)):\n",
    "        if forVax:\n",
    "            if scatter:\n",
    "                line.append(fig.scatter(x[i], y[i], line_width=2, color=color[i]))\n",
    "            else:\n",
    "                line.append(fig.line(x[i], y[i], line_width=2, color=color[i]))\n",
    "        else:\n",
    "            if scatter:\n",
    "                line.append(fig.scatter(x[i], y[i], legend_label=legend_Label[i], line_width=2, color=color[i]))\n",
    "            else:\n",
    "                line.append(fig.line(x[i], y[i], legend_label=legend_Label[i], line_width=2, color=color[i]))\n",
    "                \n",
    "            \n",
    "        \n",
    "    # set start values\n",
    "    fig.y_range.start = 0\n",
    "    fig.x_range.start = min(x[:][0])\n",
    "    \n",
    "    fig.xaxis.ticker = MonthsTicker(months=[0, 6])\n",
    "    fig.title.align = 'center'\n",
    "    return fig, line"
   ]
  },
  {
   "cell_type": "code",
   "execution_count": 22,
   "metadata": {},
   "outputs": [
    {
     "name": "stdout",
     "output_type": "stream",
     "text": [
      "num new cases\n",
      "CA\n",
      "num new cases\n",
      "NY\n"
     ]
    },
    {
     "name": "stderr",
     "output_type": "stream",
     "text": [
      "C:\\Users\\yanni\\anaconda3\\lib\\site-packages\\bokeh\\io\\saving.py:127: UserWarning: save() called but no resources were supplied and output_file(...) was never called, defaulting to resources.CDN\n",
      "  warn(\"save() called but no resources were supplied and output_file(...) was never called, defaulting to resources.CDN\")\n",
      "C:\\Users\\yanni\\anaconda3\\lib\\site-packages\\bokeh\\io\\saving.py:140: UserWarning: save() called but no title was supplied and output_file(...) was never called, using default title 'Bokeh Plot'\n",
      "  warn(\"save() called but no title was supplied and output_file(...) was never called, using default title 'Bokeh Plot'\")\n"
     ]
    },
    {
     "data": {
      "text/plain": [
       "'C:\\\\Users\\\\yanni\\\\Desktop\\\\Database\\\\Projekt\\\\group-5\\\\WorkingStation\\\\WorkingStationP2\\\\html\\\\NewCoronaCases.html'"
      ]
     },
     "execution_count": 22,
     "metadata": {},
     "output_type": "execute_result"
    }
   ],
   "source": [
    "# new Corona cases over time\n",
    "dfcoronaCA = coronaCases('CA')\n",
    "dfcoronaNY = coronaCases('NY')\n",
    "\n",
    "coronaX = [dfcoronaCA['Date'], dfcoronaNY['Date']]\n",
    "coronaY = [dfcoronaCA['New Corona Cases'], dfcoronaNY['New Corona Cases']]\n",
    "figCorona, lineCorona = createFigure(x=coronaX, y=coronaY, \n",
    "                                     color=[\"#0575a8\", \"#eb075a\"], \n",
    "                                     legend_Label=[\"California\", \"New York\"], \n",
    "                                     title=\"Number of New Corona Cases over Time\", \n",
    "                                     x_axis_label='Date', \n",
    "                                     y_axis_label='Relative Number of New Corona Cases', \n",
    "                                     x_axis_type=\"datetime\")\n",
    "figCorona.legend.click_policy=\"hide\"\n",
    "show(figCorona)\n",
    "save(figCorona, filename=\"html\\\\NewCoronaCases.html\")\n",
    "\n",
    "\n"
   ]
  },
  {
   "cell_type": "code",
   "execution_count": 23,
   "metadata": {},
   "outputs": [
    {
     "name": "stdout",
     "output_type": "stream",
     "text": [
      "cancelledFlights\n",
      "CA\n",
      "cancelledFlights\n",
      "NY\n"
     ]
    },
    {
     "data": {
      "text/plain": [
       "'C:\\\\Users\\\\yanni\\\\Desktop\\\\Database\\\\Projekt\\\\group-5\\\\WorkingStation\\\\WorkingStationP2\\\\html\\\\CancelledFlights.html'"
      ]
     },
     "execution_count": 23,
     "metadata": {},
     "output_type": "execute_result"
    }
   ],
   "source": [
    "# number of cancelled flights over time\n",
    "dfcancelFCA = cancelledFlights('CA')\n",
    "dfcancelFNY = cancelledFlights('NY')\n",
    "\n",
    "cancelledFlightsX = [dfcancelFCA['Date'], dfcancelFNY['Date']]\n",
    "cancelledFlightsY = [dfcancelFCA['Cancelled Flights']/max(dfcancelFCA['Cancelled Flights']), dfcancelFNY['Cancelled Flights']/max(dfcancelFNY['Cancelled Flights'])]\n",
    "figCancelledFlights, lineCancelledFlight = createFigure(x=cancelledFlightsX, \n",
    "                                                        y=cancelledFlightsY, \n",
    "                                                        color=[\"#0575a8\", \"#eb075a\"], \n",
    "                                                        legend_Label=[\"California\", \"New York\"], \n",
    "                                                        title=\"Number of Cancelled Flights over Time\", x_axis_label='Date', \n",
    "                                                        y_axis_label='Relative Number of Cancelled Flights', \n",
    "                                                        x_axis_type=\"datetime\")\n",
    "figCancelledFlights.legend.click_policy=\"hide\"\n",
    "show(figCancelledFlights)\n",
    "save(figCancelledFlights, filename=\"html\\\\CancelledFlights.html\")"
   ]
  },
  {
   "cell_type": "code",
   "execution_count": 24,
   "metadata": {},
   "outputs": [
    {
     "name": "stdout",
     "output_type": "stream",
     "text": [
      "Vaccination\n",
      "california\n",
      "Vaccination\n",
      "new york\n"
     ]
    },
    {
     "data": {
      "text/plain": [
       "'C:\\\\Users\\\\yanni\\\\Desktop\\\\Database\\\\Projekt\\\\group-5\\\\WorkingStation\\\\WorkingStationP2\\\\html\\\\Vaccination.html'"
      ]
     },
     "execution_count": 24,
     "metadata": {},
     "output_type": "execute_result"
    }
   ],
   "source": [
    "# number of vaccinated people over time\n",
    "dfvaxCA = vaccination('CA')\n",
    "dfvaxNY = vaccination('NY')\n",
    "\n",
    "vaxX = [dfvaxCA['Date'], dfvaxCA['Date'], dfvaxCA['Date'],\n",
    "        dfvaxNY['Date'], dfvaxNY['Date'],dfvaxNY['Date']]\n",
    "vaxY = [dfvaxCA['Number of Covid Vaxxed'], dfvaxCA['Number of Booster'], dfvaxCA['Number of Second Booster'],\n",
    "        dfvaxNY['Number of Covid Vaxxed'], dfvaxNY['Number of Booster'], dfvaxNY['Number of Second Booster']]\n",
    "figVax, lineVax = createFigure(x=vaxX,\n",
    "                               y=vaxY, \n",
    "                               color=[\"#0575a8\", \"#07ebcc\", \"#07eb71\", \"#eb07c9\", \"#eb075a\", \"#eba307\"],  \n",
    "                               title=\"Number of Vaccinations\", \n",
    "                               x_axis_label='Date', \n",
    "                               y_axis_label='Relative Number of Vaccinated People', \n",
    "                               x_axis_type=\"datetime\", \n",
    "                               forVax=True)\n",
    "legend1 = Legend(items=[(\"Covid Vaxxed\" , [lineVax[0]]), (\"Booster\", [lineVax[1]]), (\"Second Booster\", [lineVax[2]])], title=\"California\", location=(5, 400))\n",
    "legend2 = Legend(items=[(\"Covid Vaxxed\" , [lineVax[3]]), (\"Booster\", [lineVax[4]]), (\"Second Booster\", [lineVax[5]])], title=\"New York\", location=(-150, 280))\n",
    "figVax.add_layout(legend1, 'right')\n",
    "figVax.add_layout(legend2, 'right')\n",
    "figVax.legend.click_policy=\"hide\"\n",
    "show(figVax)\n",
    "save(figVax, filename=\"html\\\\Vaccination.html\")"
   ]
  },
  {
   "cell_type": "code",
   "execution_count": 25,
   "metadata": {},
   "outputs": [
    {
     "name": "stdout",
     "output_type": "stream",
     "text": [
      "Performed Flights\n",
      "Delayed Flights\n",
      "Delayed Flights\n"
     ]
    },
    {
     "data": {
      "text/plain": [
       "'C:\\\\Users\\\\yanni\\\\Desktop\\\\Database\\\\Projekt\\\\group-5\\\\WorkingStation\\\\WorkingStationP2\\\\html\\\\Performed Flights.html'"
      ]
     },
     "execution_count": 25,
     "metadata": {},
     "output_type": "execute_result"
    }
   ],
   "source": [
    "# number of performed flights incl. delays over time\n",
    "dfPerformed = preformedFlights()\n",
    "# number of delayed flights over time\n",
    "dfDelayWith = delays()\n",
    "# number of delayed flights without weather delay over time\n",
    "dfDelayWithout = delays('without Weather Delay')\n",
    "\n",
    "perfX = [dfPerformed['Date'],\n",
    "         dfDelayWith['Date'], dfDelayWithout['Date']]\n",
    "perfY = [dfPerformed['Number of Performed Flights'],\n",
    "         dfDelayWith['Number of Delayed Flights'], dfDelayWithout['Number of Delayed Flights']]\n",
    "figPerf, linePerf = createFigure(x=perfX,\n",
    "                                y=perfY,\n",
    "                                color=[\"#0575a8\", \"#eb07c9\", \"#eb075a\"],\n",
    "                                title=\"Number of Performed Flights incl. Delays\",\n",
    "                                x_axis_label='Date',\n",
    "                                y_axis_label='Number of Flights',\n",
    "                                x_axis_type=\"datetime\",\n",
    "                                forVax=True)\n",
    "legend1 = Legend(items=[(\"performed\" , [linePerf[0]])], title=\"Performed flights\", location=(5, 400))\n",
    "legend2 = Legend(items=[(\"delayed\" , [linePerf[1]]), (\"delayed without weather delay\", [linePerf[2]])], title=\"Delayed flights\", location=(-130, 300))\n",
    "figPerf.add_layout(legend1, 'right')\n",
    "figPerf.add_layout(legend2, 'right')\n",
    "figPerf.legend.click_policy=\"hide\"\n",
    "show(figPerf)\n",
    "save(figPerf, filename=\"html\\\\Performed Flights.html\")"
   ]
  },
  {
   "cell_type": "code",
   "execution_count": 26,
   "metadata": {},
   "outputs": [
    {
     "name": "stdout",
     "output_type": "stream",
     "text": [
      "Performed Flights\n"
     ]
    },
    {
     "data": {
      "text/plain": [
       "'C:\\\\Users\\\\yanni\\\\Desktop\\\\Database\\\\Projekt\\\\group-5\\\\WorkingStation\\\\WorkingStationP2\\\\html\\\\Employee.html'"
      ]
     },
     "execution_count": 26,
     "metadata": {},
     "output_type": "execute_result"
    }
   ],
   "source": [
    "# number of employees over time\n",
    "dfEmployee = employee()\n",
    "\n",
    "empX = [dfEmployee['Date'], dfEmployee['Date'], dfEmployee['Date']]\n",
    "empY = [dfEmployee['Fulltime'], dfEmployee['Parttime'], dfEmployee['Grand Total']]\n",
    "figEmp, lineEmp = createFigure(x=empX,\n",
    "                               y=empY,\n",
    "                               color=[\"#0575a8\", \"#07eb71\", \"#eb075a\"],\n",
    "                               title=\"Total Number of Employees over Time\",\n",
    "                               x_axis_label='Date',\n",
    "                               y_axis_label='Number of Employees',\n",
    "                               x_axis_type=\"datetime\",\n",
    "                               forVax=True)\n",
    "legend1 = Legend(items=[(\"Fulltime\" , [lineEmp[0]]), (\"Parttime\", [lineEmp[1]]), (\"Grand Total\", [lineEmp[2]])], location=(5, 400))\n",
    "figEmp.add_layout(legend1, 'right')\n",
    "figEmp.legend.click_policy=\"hide\"\n",
    "\n",
    "show(figEmp)\n",
    "save(figEmp, filename=\"html\\\\Employee.html\")"
   ]
  },
  {
   "cell_type": "code",
   "execution_count": 27,
   "metadata": {},
   "outputs": [
    {
     "name": "stdout",
     "output_type": "stream",
     "text": [
      "num new cases\n",
      "CA\n",
      "num new cases\n",
      "NY\n",
      "cancelledFlights\n",
      "CA\n",
      "cancelledFlights\n",
      "NY\n"
     ]
    }
   ],
   "source": [
    "dfcoronaCA = coronaCasesMonthly('CA')\n",
    "dfcoronaNY = coronaCasesMonthly('NY')\n",
    "\n",
    "dfcancelFCA = cancelledFlightsMonthly('CA')\n",
    "dfcancelFNY = cancelledFlightsMonthly('NY')\n",
    "\n",
    "dfcanCorCA = pd.merge(dfcancelFCA, dfcoronaCA, on='Date')\n",
    "dfcanCorNY = pd.merge(dfcancelFNY, dfcoronaNY, on='Date')\n",
    "\n",
    "cancorX = [dfcanCorCA['Cancelled Flights'], dfcanCorNY['Cancelled Flights']]\n",
    "cancorY = [dfcanCorCA['New Corona Cases'], dfcanCorNY['New Corona Cases']]"
   ]
  },
  {
   "cell_type": "code",
   "execution_count": 29,
   "metadata": {},
   "outputs": [
    {
     "name": "stdout",
     "output_type": "stream",
     "text": [
      "Correlation coefficient: 0.08743583002170909\n",
      "p-value: 0.6399891063755834\n"
     ]
    },
    {
     "data": {
      "image/png": "[encoded data removed]",
      "text/plain": [
       "<Figure size 432x288 with 1 Axes>"
      ]
     },
     "metadata": {
      "needs_background": "light"
     },
     "output_type": "display_data"
    }
   ],
   "source": [
    "import matplotlib.pyplot as plt\n",
    "import numpy as np\n",
    "from scipy.stats import pearsonr\n",
    "\n",
    "query =  \"\"\"SELECT to_char(DATE_TRUNC('month', f.flightdate), 'YYYY-MM') \"Month\", COUNT(*) \"Number of performed Flights\"\n",
    "                FROM Flight f, State s, Airport a, City c\n",
    "                WHERE (f.OriginAirportID = a.AirportID\n",
    "                        AND a.CityID = c.CityID \n",
    "                        AND c.State = s.state\n",
    "                        AND s.state = 'CA'\n",
    "                        AND f.cancelled = 0)\n",
    "                GROUP BY \"Month\"\n",
    "                ORDER BY \"Month\" Asc \"\"\"\n",
    "                \n",
    "cursor.execute(query)\n",
    "    \n",
    "#save results\n",
    "df = pd.DataFrame(cursor.fetchall())\n",
    "df.columns = ['Date', 'CA']\n",
    "dfcanCorCA = pd.merge(df, dfcoronaCA, on='Date')\n",
    "\n",
    "x = dfcanCorCA['CA']\n",
    "y = dfcanCorCA['New Corona Cases']\n",
    "\n",
    "# Calculate the Pearson correlation coefficient and p-value\n",
    "corr_coef, p_value = pearsonr(x, y)\n",
    "print(\"Correlation coefficient:\", corr_coef)\n",
    "print(\"p-value:\", p_value)\n",
    "\n",
    "plt.scatter(x,y)\n",
    "slope, intercept = np.polyfit(x, y, 1)\n",
    "plt.plot(x, slope * x + intercept, \"r\")\n",
    "plt.xlabel(\"rel. No. of performed Flights\")\n",
    "plt.ylabel(\"No. of Corona Cases\")\n",
    "plt.grid(True)\n",
    "plt.title(\"Performed Flights vs. New Corona Cases in California\")\n",
    "plt.show()"
   ]
  },
  {
   "cell_type": "code",
   "execution_count": 30,
   "metadata": {},
   "outputs": [
    {
     "name": "stdout",
     "output_type": "stream",
     "text": [
      "Correlation coefficient: 0.19759631523466736\n",
      "p-value: 0.2866456751257925\n"
     ]
    },
    {
     "data": {
      "image/png": "[encoded data removed]",
      "text/plain": [
       "<Figure size 432x288 with 1 Axes>"
      ]
     },
     "metadata": {
      "needs_background": "light"
     },
     "output_type": "display_data"
    }
   ],
   "source": [
    "query =  \"\"\"SELECT to_char(DATE_TRUNC('month', f.flightdate), 'YYYY-MM') \"Month\", COUNT(*) \"Number of performed Flights\"\n",
    "                FROM Flight f, State s, Airport a, City c\n",
    "                WHERE (f.OriginAirportID = a.AirportID\n",
    "                        AND a.CityID = c.CityID \n",
    "                        AND c.State = s.state\n",
    "                        AND s.state = 'NY'\n",
    "                        AND f.cancelled = 0)\n",
    "                GROUP BY \"Month\"\n",
    "                ORDER BY \"Month\" Asc \"\"\"\n",
    "                \n",
    "cursor.execute(query)\n",
    "df = pd.DataFrame(cursor.fetchall())\n",
    "df.columns = ['Date', 'NY']\n",
    "dfcanCorCA = pd.merge(df, dfcoronaNY, on='Date')\n",
    "x = dfcanCorCA['NY']\n",
    "y = dfcanCorCA['New Corona Cases']\n",
    "\n",
    "# Calculate the Pearson correlation coefficient and p-value\n",
    "corr_coef, p_value = pearsonr(x, y)\n",
    "print(\"Correlation coefficient:\", corr_coef)\n",
    "print(\"p-value:\", p_value)\n",
    "\n",
    "plt.scatter(x,y)\n",
    "slope, intercept = np.polyfit(x, y, 1)\n",
    "plt.plot(x, slope * x + intercept, \"r\")\n",
    "plt.xlabel(\"No. of performed Flights\")\n",
    "plt.ylabel(\"rel. No. of Corona Cases\")\n",
    "plt.grid(True)\n",
    "plt.title(\"Performed Flights vs. New Corona Cases in New York\")\n",
    "plt.show()"
   ]
  },
  {
   "cell_type": "code",
   "execution_count": 31,
   "metadata": {
    "scrolled": true
   },
   "outputs": [
    {
     "name": "stdout",
     "output_type": "stream",
     "text": [
      "Correlation coefficient: 0.0791183947781513\n",
      "p-value: 0.36717900912693835\n"
     ]
    },
    {
     "data": {
      "image/png": "[encoded data removed]",
      "text/plain": [
       "<Figure size 432x288 with 1 Axes>"
      ]
     },
     "metadata": {
      "needs_background": "light"
     },
     "output_type": "display_data"
    }
   ],
   "source": [
    "query =  \"\"\"Select Date_trunc('week',f.flightdate) \"week\", count(*)\n",
    "from flight f\n",
    "where cancelled = 0\n",
    "group by \"week\" \"\"\"\n",
    "cursor.execute(query)\n",
    "dfflight = pd.DataFrame(cursor.fetchall())\n",
    "dfflight.columns = ['Date', 'N.Flights']\n",
    "\n",
    "query =  \"\"\"Select DATE_TRUNC('week',Coronadata.date) \"week\", SUM(Coronadata.new_case) \"Number of Corona Cases\"\n",
    "From CoronaData\n",
    "Group BY  \"week\" \"\"\"\n",
    "cursor.execute(query)\n",
    "dfcorona = pd.DataFrame(cursor.fetchall())\n",
    "dfcorona.columns = ['Date', 'N.Corona']\n",
    "\n",
    "dfcanCor = pd.merge(dfflight, dfcorona, on='Date')\n",
    "x = dfcanCor['N.Flights']\n",
    "y = dfcanCor['N.Corona']\n",
    "\n",
    "corr_coef, p_value = pearsonr(x, y)\n",
    "print(\"Correlation coefficient:\", corr_coef)\n",
    "print(\"p-value:\", p_value)\n",
    "\n",
    "plt.scatter(x,y)\n",
    "slope, intercept = np.polyfit(x, y, 1)\n",
    "plt.plot(x, slope * x + intercept, \"r\")\n",
    "plt.xlabel(\"No. of performed Flights\")\n",
    "plt.ylabel(\"No. of Corona Cases\")\n",
    "plt.grid(True)\n",
    "plt.title(\"Performed Flights vs. New Corona Cases\")\n",
    "plt.show()"
   ]
  },
  {
   "cell_type": "code",
   "execution_count": 32,
   "metadata": {
    "scrolled": true
   },
   "outputs": [
    {
     "name": "stdout",
     "output_type": "stream",
     "text": [
      "Correlation coefficient Vaccs: 0.011128284047842336\n",
      "p-value: 0.9133973949291805\n",
      "Correlation coefficient B1: -0.03966239264362367\n",
      "p-value: 0.7576046098362336\n",
      "Correlation coefficient B2: -0.2913031282944447\n",
      "p-value: 0.02054032903302516\n"
     ]
    },
    {
     "data": {
      "image/png": "[encoded data removed]",
      "text/plain": [
       "<Figure size 432x288 with 1 Axes>"
      ]
     },
     "metadata": {
      "needs_background": "light"
     },
     "output_type": "display_data"
    }
   ],
   "source": [
    "query =  \"\"\"Select DATE_TRUNC('week', cv.date) \"week\", SUM(cv.series_complete_yes) \"Number of Covid Vaxxed\", SUM(cv.booster_doses) \"Number of Booster\", Sum(cv.second_booster) \"Number of second Booster\"\n",
    "From CoronaVax cv\n",
    "Group BY \"week\" \"\"\"\n",
    "cursor.execute(query)\n",
    "dfvax = pd.DataFrame(cursor.fetchall())\n",
    "dfvax.columns = ['Date', 'N.Vax', 'N.B1', 'N.B2']\n",
    "\n",
    "dfcanCor = pd.merge(dfvax[['Date','N.Vax']], dfcorona, on='Date')\n",
    "x = dfcanCor['N.Vax']\n",
    "y = dfcanCor['N.Corona']\n",
    "\n",
    "dfcanCor = pd.merge(dfvax[['Date','N.B1']].dropna(), dfcorona, on='Date')\n",
    "x2 = dfcanCor['N.B1']\n",
    "y2 = dfcanCor['N.Corona']\n",
    "\n",
    "dfcanCor = pd.merge(dfvax[['Date','N.B2']].dropna(), dfcorona, on='Date')\n",
    "x3 = dfcanCor['N.B2']\n",
    "y3 = dfcanCor['N.Corona']\n",
    "\n",
    "corr_coef, p_value = pearsonr(x, y)\n",
    "print(\"Correlation coefficient Vaccs:\", corr_coef)\n",
    "print(\"p-value:\", p_value)\n",
    "\n",
    "corr_coef, p_value = pearsonr(x2, y2)\n",
    "print(\"Correlation coefficient B1:\", corr_coef)\n",
    "print(\"p-value:\", p_value)\n",
    "\n",
    "corr_coef, p_value = pearsonr(x3, y3)\n",
    "print(\"Correlation coefficient B2:\", corr_coef)\n",
    "print(\"p-value:\", p_value)\n",
    "\n",
    "plt.scatter(x,y, label = 'First Vaccination')\n",
    "plt.scatter(x2,y2, color='green', label = 'Booster 1')\n",
    "plt.scatter(x3,y3, color = 'purple', label = 'Booster 2')\n",
    "\n",
    "slope, intercept = np.polyfit(x, y, 1)\n",
    "#plt.plot(x, slope * x + intercept, \"r\")\n",
    "plt.legend(bbox_to_anchor=(1.05, 1), loc='upper left', borderaxespad=0.)\n",
    "plt.xlabel(\"No. of tot. vaccinated\")\n",
    "plt.ylabel(\"No. of new Corona Cases\")\n",
    "plt.grid(True)\n",
    "plt.title(\"Vaccination vs. New Corona Cases\")\n",
    "plt.show()"
   ]
  },
  {
   "cell_type": "code",
   "execution_count": null,
   "metadata": {},
   "outputs": [],
   "source": []
  }
 ],
 "metadata": {
  "kernelspec": {
   "display_name": "Python 3",
   "language": "python",
   "name": "python3"
  },
  "language_info": {
   "codemirror_mode": {
    "name": "ipython",
    "version": 3
   },
   "file_extension": ".py",
   "mimetype": "text/x-python",
   "name": "python",
   "nbconvert_exporter": "python",
   "pygments_lexer": "ipython3",
   "version": "3.8.3"
  },
  "toc": {
   "base_numbering": 1,
   "nav_menu": {},
   "number_sections": false,
   "sideBar": false,
   "skip_h1_title": false,
   "title_cell": "Table of Contents",
   "title_sidebar": "Contents",
   "toc_cell": false,
   "toc_position": {},
   "toc_section_display": false,
   "toc_window_display": false
  },
  "vscode": {
   "interpreter": {
    "hash": "991be16e7629c45cb85e734b829d8917587b9f6f9870561c44343df940fb8511"
   }
  }
 },
 "nbformat": 4,
 "nbformat_minor": 2
}
