{
 "cells": [
  {
   "cell_type": "code",
   "execution_count": 1,
   "metadata": {},
   "outputs": [],
   "source": [
    "import pandas as pd"
   ]
  },
  {
   "cell_type": "code",
   "execution_count": null,
   "metadata": {},
   "outputs": [],
   "source": [
    "df = []\n",
    "sums = 0\n",
    "for i in range(2017, 2023):\n",
    "    for j in range(1, 13):\n",
    "        if i == 2017 and j < 7:\n",
    "            continue\n",
    "        if i == 2022 and j > 7:\n",
    "            break\n",
    "        data = pd.read_csv(f\"{string}_{str(i)}.csv\")\n",
    "        sums += len(data)\n",
    "        string = str(j)\n",
    "        print(f\"{string}_{str(i)}.csv\")\n",
    "        df.append(data, low_memory=False)"
   ]
  },
  {
   "cell_type": "code",
   "execution_count": null,
   "metadata": {},
   "outputs": [],
   "source": [
    "for i in len(df):\n",
    "    pd.to_csv(\"flightDataMerged.csv\", index=False, mode=\"a\", header=False)"
   ]
  },
  {
   "cell_type": "code",
   "execution_count": null,
   "metadata": {},
   "outputs": [],
   "source": []
  }
 ],
 "metadata": {
  "kernelspec": {
   "display_name": "Python 3.8.3 ('base')",
   "language": "python",
   "name": "python3"
  },
  "language_info": {
   "codemirror_mode": {
    "name": "ipython",
    "version": 3
   },
   "file_extension": ".py",
   "mimetype": "text/x-python",
   "name": "python",
   "nbconvert_exporter": "python",
   "pygments_lexer": "ipython3",
   "version": "3.8.3"
  },
  "orig_nbformat": 4,
  "vscode": {
   "interpreter": {
    "hash": "991be16e7629c45cb85e734b829d8917587b9f6f9870561c44343df940fb8511"
   }
  }
 },
 "nbformat": 4,
 "nbformat_minor": 2
}
